{
 "cells": [
  {
   "cell_type": "markdown",
   "metadata": {},
   "source": [
    "## Dodatek glavnemu poročilu\n",
    "\n",
    "__V tem dokumentu so shranjeni dodatni grafi in tabele.__"
   ]
  },
  {
   "cell_type": "markdown",
   "metadata": {},
   "source": [
    "### Graf distribucije starosti ponesrečencev:\n",
    "\n",
    "![alt text](res/starost_distribucija.png \"Porazdelitve zabeleženih nesreč glede na spol in zvrst\")\n",
    "\n",
    "Koda, ki je ustvarila graf, je na voljo [tu](./PR01.ipynb#Korak-2:-starost-ponesre%C4%8Dencev).\n",
    "\n",
    "---"
   ]
  },
  {
   "cell_type": "markdown",
   "metadata": {},
   "source": [
    "### Graf distribucije starosti ponesrečencev (normaliziran):\n",
    "\n",
    "![alt text](res/age_distribution_normalized.png \"Porazdelitve zabeleženih nesreč glede na spol in zvrst\")\n",
    "\n",
    "Koda, ki je ustvarila graf, je na voljo [tu](./PR01.ipynb#Korak-2:-starost-ponesre%C4%8Dencev).\n",
    "\n",
    "---"
   ]
  },
  {
   "cell_type": "markdown",
   "metadata": {},
   "source": [
    "### Graf distribucije spola ponesrečencev (normaliziran):\n",
    "\n",
    "![alt text](res/spol_distribucija.png \"Porazdelitve zabeleženih nesreč glede na spol in zvrst\")\n",
    "\n",
    "Koda, ki je ustvarila graf, je na voljo [tu](./PR01.ipynb#Korak-3:-spol-ponesre%C4%8Dencev).\n",
    "\n",
    "---"
   ]
  },
  {
   "cell_type": "markdown",
   "metadata": {},
   "source": [
    "### Graf distribucije nesreč glede na mesec in leto:\n",
    "\n",
    "![alt text](res/month_year_distribution.png \"Nesreče glede na mesec in leto\")\n",
    "\n",
    "Koda, ki je ustvarila graf, je na voljo [tu](./PR01.ipynb#Korak-4:-%C4%8Dasovna-raz%C4%8Dlenitev) in [tu](./PR01.ipynb#4.4:-Graf-nesre%C4%8D-glede-na-mesec-in-leto).\n",
    "\n",
    "---"
   ]
  },
  {
   "cell_type": "markdown",
   "metadata": {},
   "source": [
    "### Graf distribucije nesreč glede na dan v letu:\n",
    "\n",
    "![alt text](res/day_of_year_distribution.png \"Nesreče glede na dan v letu\")\n",
    "\n",
    "Koda, ki je ustvarila graf, je na voljo [tu](./PR01.ipynb#Korak-4:-%C4%8Dasovna-raz%C4%8Dlenitev) in [tu](./PR01.ipynb#4.1:-Graf-nesre%C4%8D-glede-na-dan-v-letu).\n",
    "\n",
    "---"
   ]
  },
  {
   "cell_type": "markdown",
   "metadata": {},
   "source": [
    "### Graf distribucije nesreč glede na dan v tednu:\n",
    "\n",
    "![alt text](res/day_of_week_distribution.png \"Nesreče glede na dan v tednu\")\n",
    "\n",
    "Koda, ki je ustvarila graf, je na voljo [tu](./PR01.ipynb#Korak-4:-%C4%8Dasovna-raz%C4%8Dlenitev) in [tu](./PR01.ipynb#4.2:-Graf-nesre%C4%8D-glede-na-dan-v-tednu).\n",
    "\n",
    "---"
   ]
  },
  {
   "cell_type": "markdown",
   "metadata": {},
   "source": [
    "### Graf distribucije nesreč glede na uro v dnevu:\n",
    "\n",
    "![alt text](res/time_of_day_distribution.png \"Nesreče glede na uro v dnevu\")\n",
    "\n",
    "Koda, ki je ustvarila graf, je na voljo [tu](./PR01.ipynb#Korak-4:-%C4%8Dasovna-raz%C4%8Dlenitev) in [tu](./PR01.ipynb#4.3:-Graf-nesre%C4%8D-glede-na-uro-v-dnevu).\n",
    "\n",
    "---"
   ]
  },
  {
   "cell_type": "markdown",
   "metadata": {},
   "source": [
    "### Graf državnosti ponesrečencev:\n",
    "\n",
    "![alt text](res/country_distribution.png \"Državnost ponesrečencev\")\n",
    "\n",
    "Koda, ki je ustvarila graf, je na voljo [tu](./PR01.ipynb#Korak-5:-dele%C5%BEi-in-porazdelitve-razli%C4%8Dnih-atributov).\n",
    "\n",
    "---"
   ]
  },
  {
   "cell_type": "markdown",
   "metadata": {},
   "source": [
    "### Graf odločitvenega drevesa za resnost poškodbe:\n",
    "\n",
    "![alt text](res/decision_tree.png \"Odločitveno drevo za resnost poškodbe\")\n",
    "\n",
    "Gornji graf je bil ustvarjen s spletnim orodjem za risanje grafov [creately.com](https://creately.com/lp/decision-tree-maker-online/), ker je bil programsko izrisan graf (spodaj) nepregleden. Koda, ki je ustvarila spodnji graf, je na voljo [tu](./PR01.ipynb#Korak-6:-odlo%C4%8Ditveno-drevo---resnost-po%C5%A1kodbe).\n",
    "\n",
    "\n",
    "\n",
    "![alt text](res/decision_tree_raw.png \"Odločitveno drevo za resnost poškodbe (originalen graf)\")"
   ]
  }
 ],
 "metadata": {
  "kernelspec": {
   "display_name": "Python 3",
   "language": "python",
   "name": "python3"
  },
  "language_info": {
   "codemirror_mode": {
    "name": "ipython",
    "version": 3
   },
   "file_extension": ".py",
   "mimetype": "text/x-python",
   "name": "python",
   "nbconvert_exporter": "python",
   "pygments_lexer": "ipython3",
   "version": "3.6.9"
  }
 },
 "nbformat": 4,
 "nbformat_minor": 2
}

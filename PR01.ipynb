{
 "cells": [
  {
   "cell_type": "markdown",
   "metadata": {},
   "source": [
    "# Podatkovno rudarjenje 01 - evidenca nesreč na smučiščih\n",
    "\n",
    "#### avtor: Urban Papler\n",
    "#### datum: 2. 4. 2020"
   ]
  },
  {
   "cell_type": "markdown",
   "metadata": {},
   "source": [
    "V tem notebooku bomo iz evidence nesreč na smučiščih izluščili nekaj zanimivih povezav in jih prikazali."
   ]
  },
  {
   "cell_type": "markdown",
   "metadata": {},
   "source": [
    "### Korak 0: branje in priprava podatkov\n",
    "\n",
    "Preberemo podatke iz datoteke ter jih obdelamo tako, da bo delo z njimi čim lažje."
   ]
  },
  {
   "cell_type": "code",
   "execution_count": 1,
   "metadata": {},
   "outputs": [],
   "source": [
    "# priprava podatkov\n",
    "\n",
    "import numpy as np                                     # knjižnica za obdelavo podatkov\n",
    "import csv                                             # branje *.csv datotek\n",
    "from collections import defaultdict                    # napredni slovar\n",
    "import matplotlib                                      # knjižnica za risanje grafov\n",
    "import matplotlib.pyplot as plt                        # graf\n",
    "from scipy.stats import multivariate_normal as mvn     # izračun grafa iz porazdelitve\n",
    "from Orange.data.filter import SameValue               # Orange\n",
    "from Orange.data import Table                          # Orange ustvarjanje tabele\n",
    "import time                                            # pretvorba datumov in časov\n",
    "import datetime as dt                                  # računanje z datumi"
   ]
  },
  {
   "cell_type": "markdown",
   "metadata": {},
   "source": [
    "Podatki so pridobljeni iz OPSI (Odprti podatki Slovenije), in sicer iz [Evidence nesreč na smučiščih](https://podatki.gov.si/dataset/evidenca-nesrec-na-smuciscih1 \"Evidenca nesreč na smučiščih - OPSI\")."
   ]
  },
  {
   "cell_type": "markdown",
   "metadata": {},
   "source": [
    "Branje datoteke [2013_12_01-2017_03_09.csv](./podatki/2013_12_01-2017_03_09.csv) in ustvarjanje tabele **tab1**:"
   ]
  },
  {
   "cell_type": "code",
   "execution_count": 2,
   "metadata": {},
   "outputs": [],
   "source": [
    "# branje datoteke 2013_12_01-2017_03_09.csv\n",
    "\n",
    "tab1 = []\n",
    "file = open(\"./podatki/2013_12_01-2017_03_09.csv\", 'r', encoding='ANSI')\n",
    "file.readline()\n",
    "stevec = 0\n",
    "for line in file:\n",
    "    l = line.split(\";\")\n",
    "    id = stevec\n",
    "    stevec += 1\n",
    "    str_id = l[0]\n",
    "    # preverimo, če so podatki v vrstici zapisani v pravem formatu\n",
    "    if len(l) != 23:\n",
    "        print(\"Vrstica z ID = {:s} ima {:d} razčlenitev.\".format(id, len(l)))\n",
    "    # pripravimo podatke\n",
    "    datum = l[1]\n",
    "    if (len(datum) != 0):\n",
    "        datum = time.strptime(datum, \"%d.%m.%Y\")\n",
    "        datum = time.strftime(\"%Y-%m-%d\", datum)\n",
    "    cas = l[2]\n",
    "    if (len(cas) != 0):\n",
    "        cas = time.strptime(cas, \"%H:%M\")\n",
    "        cas = time.strftime(\"%H-%M\", cas)\n",
    "    datum_in_cas = \"{:s}_{:s}\".format(datum, cas)\n",
    "    nadzornik = (l[3].upper().find(\"DA\") != -1)\n",
    "    zdravnik = (l[4].upper().find(\"DA\") != -1)\n",
    "    resevalec = (l[5].upper().find(\"DA\") != -1)\n",
    "    A_leto = l[6]\n",
    "    if (len(A_leto) != 0):\n",
    "        A_leto = int(A_leto)\n",
    "    else:\n",
    "        A_leto = None\n",
    "    A_drzava = l[7].upper().strip('\"').replace(\"È\", \"Č\")\n",
    "    if A_drzava == \" \":\n",
    "        A_drzava = \"\"\n",
    "    A_zvrst = l[8].upper()\n",
    "    if len(A_zvrst) == 0:\n",
    "        A_zvrst = 0\n",
    "    elif \"AL\" in A_zvrst:\n",
    "        A_zvrst = 1\n",
    "    elif \"DE\" in A_zvrst:\n",
    "        A_zvrst = 2\n",
    "    elif \"SAN\" in A_zvrst:\n",
    "        A_zvrst = 3\n",
    "    else:\n",
    "        A_zvrst = 4\n",
    "    A_ravnanje = l[9]\n",
    "    B_leto = l[10]\n",
    "    if (len(B_leto) != 0):\n",
    "        B_leto = int(B_leto)\n",
    "    else:\n",
    "        B_leto = None\n",
    "    B_drzava = l[11].upper().replace(\"È\", \"Č\")\n",
    "    if B_drzava == \" \":\n",
    "        B_drzava = \"\"\n",
    "    B_zvrst = l[12].upper()\n",
    "    if len(B_zvrst) == 0:\n",
    "        B_zvrst = 0\n",
    "    elif \"AL\" in B_zvrst:\n",
    "        B_zvrst = 1\n",
    "    elif \"DE\" in B_zvrst:\n",
    "        B_zvrst = 2\n",
    "    elif \"SAN\" in B_zvrst:\n",
    "        B_zvrst = 3\n",
    "    else:\n",
    "        B_zvrst = 4\n",
    "    B_ravnanje = l[13]\n",
    "    skica = (l[14].upper().find(\"DA\") != -1)\n",
    "    fotografija = (l[15].upper().find(\"DA\") != -1)\n",
    "    posnetek = (l[16].upper().find(\"DA\") != -1)\n",
    "    vreme = l[17]\n",
    "    vidljivost = l[18]\n",
    "    temperatura = l[19]\n",
    "    sneg = l[20]\n",
    "    veter = l[21]\n",
    "    poskodba = l[22].strip(\"\\n\").strip('\"')\n",
    "    # indeksiramo poskodbe\n",
    "    if (len(poskodba) != 0):\n",
    "        #           lažja, hujša\n",
    "        poskodba = { \"L\": 2, \"H\": 3}.get(poskodba[0], -1)\n",
    "    else:\n",
    "        poskodba = -1\n",
    "    # shranimo podatke\n",
    "    podatki = (id, str_id, datum, cas, datum_in_cas, nadzornik, zdravnik, resevalec,\n",
    "               A_leto, A_drzava, A_zvrst, A_ravnanje,\n",
    "               B_leto, B_drzava, B_zvrst, B_ravnanje,\n",
    "               skica, fotografija, posnetek, vreme, vidljivost,\n",
    "               temperatura, sneg, veter, poskodba)\n",
    "    tab1.append(podatki)\n",
    "\n",
    "# priprava tabele, ki bo olajšala dostop do podatkov\n",
    "def t1g (*atributi):\n",
    "    slovar_atributov = {\"ID\": 0, \"STR_ID\": 1, \"STRING_ID\": 1, \"DATUM\": 2, \"CAS\": 3,\n",
    "                        \"DATUM_IN_CAS\": 4, \"DATUM IN CAS\": 4, \"DC\": 4,\n",
    "                        \"NADZORNIK\": 5, \"ZDRAVNIK\": 6, \"RESEVALEC\": 7,\n",
    "                        \"A_LETO\": 8, \"A LETO\": 8, \"A_DRZAVA\": 9, \"A DRZAVA\": 9,\n",
    "                        \"A_ZVRST\": 10, \"A ZVRST\": 10, \"A_RAVNANJE\": 11, \"A RAVNANJE\": 11,\n",
    "                        \"B_LETO\": 12, \"B LETO\": 12, \"B_DRZAVA\": 13, \"B DRZAVA\": 13,\n",
    "                        \"B_ZVRST\": 14, \"B ZVRST\": 14, \"B_RAVNANJE\": 15, \"B RAVNANJE\": 15,\n",
    "                        \"SKICA\": 16, \"FOTOGRAFIJA\": 17, \"POSNETEK\": 18, \"VREME\": 19,\n",
    "                        \"VIDLJIVOST\": 20, \"TEMPERATURA\": 21, \"SNEG\": 22, \"VETER\": 23, \"POSKODBA\": 24}\n",
    "    # ni vrednosti\n",
    "    if (len(atributi) == 0):\n",
    "        return\n",
    "    # samo ena vrednost\n",
    "    if (len(atributi) == 1):\n",
    "        return slovar_atributov[atributi[0].upper()]\n",
    "    return [slovar_atributov[atribut.upper()] for atribut in atributi]"
   ]
  },
  {
   "cell_type": "markdown",
   "metadata": {},
   "source": [
    "Branje datoteke [2017_11_01-2019_04_02.csv](./podatki/2017_11_01-2019_04_02.csv) in ustvarjanje tabele **tab2**:"
   ]
  },
  {
   "cell_type": "code",
   "execution_count": 3,
   "metadata": {},
   "outputs": [],
   "source": [
    "# funkcija za zamenjavo znakov v nizu\n",
    "def replace_within (niz, najdi=';', zamenjaj='_', znotraj='\"'):\n",
    "    niz = list(niz)\n",
    "    znotraj_niza = False\n",
    "    znaki = len(niz)\n",
    "    for i in range(znaki):\n",
    "        if (niz[i] == znotraj):\n",
    "            znotraj_niza = not znotraj_niza\n",
    "        elif niz[i] == najdi and znotraj_niza:\n",
    "            niz[i] = zamenjaj\n",
    "    return \"\".join(niz)"
   ]
  },
  {
   "cell_type": "code",
   "execution_count": 15,
   "metadata": {},
   "outputs": [],
   "source": [
    "# branje datoteke 2017_11_01-2019_04_02.csv\n",
    "\n",
    "tab2 = []\n",
    "file = open(\"./podatki/2017_11_01-2019_04_02.csv\", 'r', encoding='ANSI')\n",
    "file.readline()\n",
    "stevec = 0\n",
    "for line in file:\n",
    "    # zamenjamo podpičja (;) v narekovajih (\") z podčrtajem (_), da se bo niz pravilno razčlenil\n",
    "    line = replace_within(line, najdi=';', zamenjaj='_', znotraj='\"')\n",
    "    l = line.split(\";\")\n",
    "    id = stevec\n",
    "    stevec += 1\n",
    "    # preverimo, če so podatki v vrstici zapisani v pravem formatu\n",
    "    if len(l) != 16:\n",
    "        print(\"Vrstica z ID = {:d} ima {:d} razčlenitev.\".format(id, len(l)))\n",
    "    # pripravimo podatke\n",
    "    smucisce = l[0].split(\"_\")[0].strip('\"')\n",
    "    upravljalec = l[1].split(\"_\")[0].strip('\"')\n",
    "    drzava = l[2].split(\"_\")[0].upper().strip('\"').replace(\"È\", \"Č\")\n",
    "    if drzava == \" \":\n",
    "        drzava = \"\"\n",
    "    if len(l[3]) == 0:\n",
    "        # vrstica je verjetno prazna\n",
    "        #print(\"Vstica {:s} je verjetno prazna.\".format(line.strip(\"\\n\")))\n",
    "        stevec -= 1\n",
    "        continue\n",
    "    spol = l[3].strip('\"')[0]\n",
    "    if spol == \" \":\n",
    "        spol = \"\"\n",
    "    #zvrst = l[4]\n",
    "    datum = l[5]\n",
    "    if (len(datum) != 0):\n",
    "        datum = time.strptime(datum, \"%d.%m.%Y\")\n",
    "        datum = time.strftime(\"%Y-%m-%d\", datum)\n",
    "    cas = l[6]\n",
    "    if (len(cas) != 0):\n",
    "        cas = time.strptime(cas, \"%H:%M\")\n",
    "        cas = time.strftime(\"%H-%M\", cas)\n",
    "    datum_in_cas = \"{:s}_{:s}\".format(datum, cas)\n",
    "    kraj = l[7].split(\"_\")[0].strip('\"')\n",
    "    vreme = l[8].split(\"_\")[0].strip('\"')\n",
    "    zvrst = l[9].split(\"_\")[0].strip('\"').upper()\n",
    "    if len(zvrst) == 0:\n",
    "        zvrst = 0\n",
    "    elif \"SMU\" in zvrst:\n",
    "        zvrst = 1\n",
    "    elif \"DE\" in zvrst:\n",
    "        zvrst = 2\n",
    "    elif \"SAN\" in zvrst:\n",
    "        zvrst = 3\n",
    "    else:\n",
    "        zvrst = 4\n",
    "    ravnanje = l[10].split(\"_\")[0].strip('\"')\n",
    "    incident = l[11].split(\"_\")[0].strip('\"')\n",
    "    poskodba = l[12].strip('\"').split(\"_\")[0].strip('\"')\n",
    "    # indeksiramo poskodbe\n",
    "    if (len(poskodba) != 0):\n",
    "        #           brez, lažja, hujša, posebno huda, smrt, materialna\n",
    "        poskodba = {\"B\": 1, \"L\": 2, \"H\": 3, \"P\": 4, \"S\": 5, \"M\": 6}.get(poskodba[0], -1)\n",
    "    else:\n",
    "        poskodba = -1\n",
    "    vrsta_poskodbe = l[13].split(\"_\")[0].strip('\"')\n",
    "    lokacija_poskodbe = l[14].split(\"_\")[0].strip('\"')\n",
    "    financno = l[15].strip(\"\\n\").split(\"_\")[0].strip('\"')\n",
    "    # shranimo podatke\n",
    "    podatki = (id, datum, cas, datum_in_cas, kraj, drzava, zvrst, ravnanje, incident,\n",
    "               poskodba, vrsta_poskodbe, lokacija_poskodbe, financno, vreme,\n",
    "              spol, smucisce, upravljalec)\n",
    "    tab2.append(podatki)\n",
    "\n",
    "# priprava tabele, ki bo olajšala dostop do podatkov\n",
    "def t2g (*atributi):\n",
    "    slovar_atributov = {\"ID\": 0, \"DATUM\": 1, \"CAS\": 2, \"DATUM_IN_CAS\": 3, \"DATUM IN CAS\": 3, \"DC\": 3, \n",
    "                       \"KRAJ\": 4, \"DRZAVA\": 5, \"ZVRST\": 6, \"RAVNANJE\": 7, \"INCIDENT\": 8,\n",
    "                       \"POSKODBA\": 9, \"VRSTA_POSKODBE\": 10, \"VRSTA POSKODBE\": 10, \"VRSTA\": 10,\n",
    "                       \"LOKACIJA_POSKODBE\": 11, \"LOKACIJA POSKODBE\": 11, \"LOKACIJA\": 11,\n",
    "                       \"FINANCNO\": 12, \"FINANCE\": 12, \"MATERIALNO\": 12, \"MATERIAL\": 12,\n",
    "                       \"VREME\": 13, \"SPOL\": 14, \"SMUCISCE\": 15, \"UPRAVLJALEC\": 16}\n",
    "    # ni vrednosti\n",
    "    if (len(atributi) == 0):\n",
    "        return\n",
    "    # samo ena vrednost\n",
    "    if (len(atributi) == 1):\n",
    "        return slovar_atributov[atributi[0].upper()]\n",
    "    return [slovar_atributov[atribut.upper()] for atribut in atributi]"
   ]
  },
  {
   "cell_type": "markdown",
   "metadata": {},
   "source": [
    "Ustvarimo skupno tabelo **tab** (tabeli tab1 in tab2 združimo, kjer lahko):"
   ]
  },
  {
   "cell_type": "code",
   "execution_count": 16,
   "metadata": {},
   "outputs": [],
   "source": [
    "# skupna tabela\n",
    "tab = []\n",
    "stevec = 0\n",
    "\n",
    "atributi1 = [\"DATUM\", \"CAS\", \"DATUM IN CAS\", \"A DRZAVA\", \"A ZVRST\", \"A RAVNANJE\", \"VREME\", \"POSKODBA\"]\n",
    "atributi2 = [\"DATUM\", \"CAS\", \"DATUM IN CAS\",   \"DRZAVA\",   \"ZVRST\",   \"RAVNANJE\", \"VREME\", \"POSKODBA\"]\n",
    "\n",
    "# prepišemo tab1:\n",
    "for indeks, vnos in enumerate(tab1):\n",
    "    # tab id, tabela, tab1 id\n",
    "    ids = [stevec, 1, indeks]\n",
    "    stevec += 1\n",
    "    podatki = [vnos[vrednost] for vrednost in t1g(*atributi1)]\n",
    "    podatki = tuple(ids + podatki)\n",
    "    tab.append(podatki)\n",
    "\n",
    "# prepišemo tab2:\n",
    "for indeks, vnos in enumerate(tab2):\n",
    "    # tab id, tabela, tab1 id\n",
    "    ids = [stevec, 2, indeks]\n",
    "    stevec += 1\n",
    "    podatki = [vnos[vrednost] for vrednost in t2g(*atributi2)]\n",
    "    podatki = tuple(ids + podatki)\n",
    "    tab.append(podatki)\n",
    "\n",
    "# priprava tabele, ki bo olajšala dostop do podatkov\n",
    "def tg (*atributi):\n",
    "    slovar_atributov = {\"ID\": 0, \"TABELA\": 1, \"TAB\": 1, \"T\": 1, \"TID\": 2, \"TAB_ID\": 2, \"TAB ID\": 2,\n",
    "                       \"DATUM\": 3, \"CAS\": 4, \"DATUM_IN_CAS\": 5, \"DATUM IN CAS\": 5, \"DC\": 5,\n",
    "                       \"DRZAVA\": 6, \"ZVRST\": 7, \"RAVNANJE\": 8, \"VREME\": 9, \"POSKODBA\": 10}\n",
    "    # ni vrednosti\n",
    "    if (len(atributi) == 0):\n",
    "        return\n",
    "    # samo ena vrednost\n",
    "    if (len(atributi) == 1):\n",
    "        return slovar_atributov[atributi[0].upper()]\n",
    "    return [slovar_atributov[atribut.upper()] for atribut in atributi]"
   ]
  },
  {
   "cell_type": "code",
   "execution_count": 145,
   "metadata": {},
   "outputs": [
    {
     "name": "stdout",
     "output_type": "stream",
     "text": [
      "Prva tabela ze beležila 1194 dni, druga pa 517 dni (skupaj 1711 dni).\n"
     ]
    }
   ],
   "source": [
    "# datumi:\n",
    "tab1_start = dt.date(2013, 12,  1)\n",
    "tab1_end   = dt.date(2017,  3,  9)\n",
    "tab2_start = dt.date(2017, 11,  1)\n",
    "tab2_end   = dt.date(2019,  4,  2)\n",
    "\n",
    "day_diff1 = (tab1_end - tab1_start).days\n",
    "day_diff2 = (tab2_end - tab2_start).days\n",
    "day_diff  = day_diff1 + day_diff2\n",
    "\n",
    "\n",
    "# pretvorba datumov\n",
    "def datum_pretvorba (datum):\n",
    "    format_hr = \"%d. %m. %Y\"\n",
    "    format_pr = \"%Y-%m-%d\"\n",
    "    if datum.index(\"-\") != -1:\n",
    "        # datum je v \"human readable\" formatu\n",
    "        return time.strftime(format_hr, time.strptime(datum, format_pr))\n",
    "    # datum je v \"programerskem\" formatu\n",
    "    return time.strftime(format_pr, time.strptime(datum, format_hr))\n",
    "print(\"Prva tabela ze beležila {:d} dni, druga pa {:d} dni (skupaj {:d} dni).\".format(day_diff1, day_diff2, day_diff))"
   ]
  },
  {
   "cell_type": "markdown",
   "metadata": {},
   "source": [
    "Pripravimo nekaj uporabnih tabel, ki mapirajo indekse v nize:"
   ]
  },
  {
   "cell_type": "code",
   "execution_count": 7,
   "metadata": {},
   "outputs": [],
   "source": [
    "# mapiranje indeksov poškodb:\n",
    "map_poskodbe = [\"ni podatka\", \"brez\", \"lažja\", \"hujša\", \"posebno huda\", \"smrt\", \"materialna škoda\"]\n",
    "\n",
    "# mapiranje zvrsti:\n",
    "map_zvrst = [\"ni podatka\", \"smučanje\", \"deskanje\", \"sankanje\", \"drugo\"]"
   ]
  },
  {
   "cell_type": "markdown",
   "metadata": {},
   "source": [
    "### Korak 1: nekaj osnovnih statistik\n",
    "\n",
    "Iz podatkov izluščimo nekaj osnovnih statistik o zabeleženih poškodbah na smučiščih:"
   ]
  },
  {
   "cell_type": "code",
   "execution_count": 17,
   "metadata": {},
   "outputs": [
    {
     "name": "stdout",
     "output_type": "stream",
     "text": [
      "Zabeleženih je bilo 5257 nesreč na smučiščih (3364 v prvi in 1893 v drugi tabeli).\n",
      "\n",
      "Beleženje je potekalo 1711 dni (1194 dni v prvo in 517 dni v drugo tabelo).\n",
      "\n",
      "V povprečju je bilo na dan zabeleženih 3.07 nesreč (2.82 v prvem in 3.66 v drugem obdobju).\n",
      "\n",
      "Največ nesreč je bilo zabeleženih dne 19. 02. 2015, in sicer 33, zelo blizu pa je dan 17. 02. 2015 z 31 zabeleženimi nezgodami.\n",
      "\n",
      "Število in delež poškodb glede na resnost poškodbe:\n",
      "         resnost     n    delež\n",
      "           lažja: 4873 (92.70%)\n",
      "           hujša:  292 ( 5.55%)\n",
      "            brez:   86 ( 1.64%)\n",
      "materialna škoda:    3 ( 0.06%)\n",
      "            smrt:    2 ( 0.04%)\n",
      "    posebno huda:    1 ( 0.02%)\n"
     ]
    }
   ],
   "source": [
    "# preštejemo vse zabeležene incidente\n",
    "total1 = len(tab1) # število vnosov v tabeli 1\n",
    "total2 = len(tab2) # število vnosov v tabeli 2\n",
    "total  = len(tab)  # število vnosov v skupni tabeli\n",
    "print(\"Zabeleženih je bilo {:d} nesreč na smučiščih ({:d} v prvi in {:d} v drugi tabeli).\\n\".format(total, total1, total2))\n",
    "\n",
    "# čas beleženja\n",
    "print(\"Beleženje je potekalo {:d} dni ({:d} dni v prvo in {:d} dni v drugo tabelo).\\n\".format(day_diff, day_diff1, day_diff2))\n",
    "\n",
    "# povprečje incidentov\n",
    "print(\"V povprečju je bilo na dan zabeleženih {:.2f} nesreč ({:.2f} v prvem in {:.2f} v drugem obdobju).\\n\"\n",
    "      .format(total / day_diff, total1 / day_diff1, total2 / day_diff2))\n",
    "\n",
    "# največ nesreč na dan\n",
    "nesrece_gostota = defaultdict(None)\n",
    "for vnos in tab:\n",
    "    datum_indeks = tg(\"DATUM\")\n",
    "    datum = vnos[datum_indeks]\n",
    "    vrednost = nesrece_gostota.get(datum, 0)\n",
    "    nesrece_gostota[datum] = vrednost + 1\n",
    "nesrece_gostota = sorted([(val, key) for key, val in nesrece_gostota.items()], reverse=True)\n",
    "print(\"Največ nesreč je bilo zabeleženih dne {:s}, in sicer {:d}, zelo blizu pa je dan {:s} z {:d} zabeleženimi nezgodami.\\n\"\n",
    ".format(datum_pretvorba(nesrece_gostota[0][1]), nesrece_gostota[0][0],\n",
    "        datum_pretvorba(nesrece_gostota[1][1]), nesrece_gostota[1][0]))\n",
    "\n",
    "# resnost poškodbe\n",
    "poskodba, stevilo = np.unique([map_poskodbe[tab[i][tg(\"POSKODBA\")]] for i in range(total)], return_counts=True)\n",
    "poskodbe = dict(zip(poskodba, stevilo))\n",
    "print(\"Število in delež poškodb glede na resnost poškodbe:\\n{:>16s} {:>5s} {:>8s}\".format(\"resnost\", \"n\", \"delež\"))\n",
    "for stevilo, poskodba in sorted([(stevilo, poskodba) for poskodba, stevilo in poskodbe.items()], reverse=True):\n",
    "    print(\"{:>16s}: {:4d} ({:5.2f}%)\".format(poskodba, stevilo, 100 * stevilo / total))"
   ]
  },
  {
   "cell_type": "markdown",
   "metadata": {},
   "source": [
    "### Korak 2: starost ponesrečencev\n",
    "\n",
    "Izračunamo in prikažemo nekaj zanimivih statistik glede na starost ponesrečencev."
   ]
  },
  {
   "cell_type": "code",
   "execution_count": 144,
   "metadata": {},
   "outputs": [
    {
     "name": "stdout",
     "output_type": "stream",
     "text": [
      "Število ponesrečencev glede na starost:\n",
      " 0- 9:  367\n",
      "10-19: 1189\n",
      "20-29:  406\n",
      "30-39:  368\n",
      "40-49:  432\n",
      "50-59:  277\n",
      "60-69:  205\n",
      "70-79:   71\n",
      "80-89:   14\n"
     ]
    },
    {
     "data": {
      "image/png": "[encoded data removed]",
      "text/plain": [
       "<Figure size 720x576 with 1 Axes>"
      ]
     },
     "metadata": {
      "needs_background": "light"
     },
     "output_type": "display_data"
    }
   ],
   "source": [
    "# tabela starosti ponesrečencev\n",
    "tab_starost = []\n",
    "for vnos in tab1:\n",
    "    leto_rojstva = vnos[t1g(\"A LETO\")]\n",
    "    # preverimo, če imamo podatek o letu rojstva\n",
    "    if leto_rojstva == None:\n",
    "        continue\n",
    "    leto_nesrece = vnos[t1g(\"DATUM\")]\n",
    "    # preverimo, če imamo podatek o letu nesreče\n",
    "    if len(leto_nesrece) < 1:\n",
    "        continue\n",
    "    leto_nesrece = int(leto_nesrece[:4])\n",
    "    starost = leto_nesrece - leto_rojstva\n",
    "    podatki = (starost, *vnos)\n",
    "    tab_starost.append(podatki)\n",
    "# razvrstimo po starosti\n",
    "tab_starost = sorted(tab_starost)\n",
    "\n",
    "# razdelimo na starostne skupine\n",
    "starost_unique, starost_count = np.unique([(tab_starost[i][0] // 10) * 10 for i in range(len(tab_starost))], return_counts=True)\n",
    "tab_starost_unique = dict(zip(starost_unique, starost_count))\n",
    "# odstranimo nesmiselne podatke\n",
    "tab_starost_unique.pop( 920, None)\n",
    "tab_starost_unique.pop(1010, None)\n",
    "tab_starost_unique.pop(1030, None)\n",
    "print(\"Število ponesrečencev glede na starost:\")\n",
    "for starost, stevilo in tab_starost_unique.items():\n",
    "    print(\"{:2d}-{:2d}: {:4d}\".format(starost, starost + 9, stevilo))\n",
    "\n",
    "# ustvarimo in prikažemo še histogram\n",
    "tab_starost_2d = [[0]*9 for i in range(4)]\n",
    "for vnos in tab_starost:\n",
    "    zvrst = vnos[t1g(\"A ZVRST\") + 1]\n",
    "    if zvrst == 4 or zvrst == 3:\n",
    "        zvrst = 0\n",
    "    starost = vnos[0] // 10\n",
    "    if starost >= 90:\n",
    "        continue\n",
    "    tab_starost_2d[zvrst][starost] += 1\n",
    "\n",
    "\n",
    "# histogram\n",
    "fig, axis = plt.subplots(figsize=(10, 8))\n",
    "fig.suptitle(\"Porazdelitve zabeleženih nesreč glede na starost in zvrst\", fontsize=16)\n",
    "\n",
    "x_coords = [x for x in range(9)]\n",
    "a0 = axis.bar(x_coords, tab_starost_2d[0], edgecolor='k', width=1,\n",
    "              tick_label=[\"{:d}-{:d}\".format(10*x, (10*x)+9) for x in range(9)])\n",
    "a1 = axis.bar(x_coords, tab_starost_2d[1], bottom=tab_starost_2d[0], edgecolor='k', width=1)\n",
    "a2 = axis.bar(x_coords, tab_starost_2d[2], bottom=[tab_starost_2d[0][x]\n",
    "                                                 + tab_starost_2d[1][x] for x in range(9)], edgecolor='k', width=1)\n",
    "axis.legend([a2[0], a1[0], a0[0]],\n",
    "            [map_zvrst[2], map_zvrst[1], map_zvrst[0] + \"/\" + map_zvrst[4]], fontsize=12)\n",
    "plt.ylim(0, 1250)\n",
    "plt.xlabel(\"Starostne skupine\", fontsize=12)\n",
    "plt.ylabel(\"Število ponesrečencev\", fontsize=12)\n",
    "plt.xlim(-0.5, 8.5);"
   ]
  },
  {
   "cell_type": "markdown",
   "metadata": {},
   "source": [
    "Kot vidimo, je bilo največ ponesrečencev v starostni skupini med 10 in 19 let. Ostale starostne skupine (od 0 do 49 let) so v statistiki nesreč enakomerno zastopane, po 50. letu pa začnejo števila poškodovancev padati (verjetno zaradi manjše udeležbe na smučanjih in na splošno manjšega števila starejših prebivalcev).\n",
    "\n",
    "Zanimivo je tudi slediti deležu zvrsti uživanja na snegu (smučanje in deskanje). Kot vidimo, je deskanje relativno popularno med osebami, starimi 10-30 let, pri naslednji starostni skupini pa delež deskarjev že začne padati. Deskarji, starejši od 40 let, skoraj niso več zastopani v statistiki nesreč (predvideno zaradi manjšega števila deskarjev te starosti)."
   ]
  },
  {
   "cell_type": "markdown",
   "metadata": {},
   "source": [
    "### Korak 3: spol ponesrečencev\n",
    "\n",
    "Kakšno vlogo igra spol pri številu zabeleženih ponesrečencev? Kakšna je distribucija zvrsti glede na spol? Kaj pa resnost poškodbe?"
   ]
  },
  {
   "cell_type": "markdown",
   "metadata": {},
   "source": [
    "."
   ]
  }
 ],
 "metadata": {
  "kernelspec": {
   "display_name": "Python 3",
   "language": "python",
   "name": "python3"
  },
  "language_info": {
   "codemirror_mode": {
    "name": "ipython",
    "version": 3
   },
   "file_extension": ".py",
   "mimetype": "text/x-python",
   "name": "python",
   "nbconvert_exporter": "python",
   "pygments_lexer": "ipython3",
   "version": "3.6.9"
  }
 },
 "nbformat": 4,
 "nbformat_minor": 2
}

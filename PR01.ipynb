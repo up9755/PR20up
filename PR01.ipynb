{
 "cells": [
  {
   "cell_type": "markdown",
   "metadata": {},
   "source": [
    "# Podatkovno rudarjenje 01 - evidenca nesreč na smučiščih\n",
    "\n",
    "#### avtor: Urban Papler\n",
    "#### datum: 30. 3. 2020"
   ]
  },
  {
   "cell_type": "markdown",
   "metadata": {},
   "source": [
    "V tem notebooku bomo iz evidence nesreč na smučiščih izluščili nekaj zanimivih povezav in jih prikazali."
   ]
  },
  {
   "cell_type": "markdown",
   "metadata": {},
   "source": [
    "### Korak 0: branje in priprava podatkov\n",
    "\n",
    "Preberemo podatke iz datoteke ter jih obdelamo tako, da bo delo z njimi čim lažje."
   ]
  },
  {
   "cell_type": "code",
   "execution_count": null,
   "metadata": {},
   "outputs": [],
   "source": [
    "# branje podatkov\n"
   ]
  }
 ],
 "metadata": {
  "kernelspec": {
   "display_name": "Python 3",
   "language": "python",
   "name": "python3"
  },
  "language_info": {
   "codemirror_mode": {
    "name": "ipython",
    "version": 3
   },
   "file_extension": ".py",
   "mimetype": "text/x-python",
   "name": "python",
   "nbconvert_exporter": "python",
   "pygments_lexer": "ipython3",
   "version": "3.6.9"
  }
 },
 "nbformat": 4,
 "nbformat_minor": 2
}
